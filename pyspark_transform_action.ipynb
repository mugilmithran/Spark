{
 "cells": [
  {
   "cell_type": "code",
   "execution_count": 2,
   "id": "e0279d3e-5bf7-47d9-8f36-6be36675ee46",
   "metadata": {},
   "outputs": [],
   "source": [
    "from pyspark.sql import SparkSession\n",
    "from pyspark.sql.types import StructType, StructField, IntegerType, DoubleType\n",
    "from pyspark.sql import functions as F"
   ]
  },
  {
   "cell_type": "code",
   "execution_count": 3,
   "id": "5203c9d2-f52d-411f-bb6e-6d514368ed41",
   "metadata": {},
   "outputs": [],
   "source": [
    "# Create a Spark session\n",
    "spark = SparkSession.builder \\\n",
    "    .appName(\"TransformationsAndActions\") \\\n",
    "    .getOrCreate()"
   ]
  },
  {
   "cell_type": "code",
   "execution_count": 4,
   "id": "20b92404-03b8-4740-b967-5591a90542f0",
   "metadata": {},
   "outputs": [],
   "source": [
    "# Define schema for the data\n",
    "schema = StructType([\n",
    "    StructField(\"user_id\", IntegerType(), True),\n",
    "    StructField(\"transaction_amount\", DoubleType(), True)\n",
    "])"
   ]
  },
  {
   "cell_type": "code",
   "execution_count": 5,
   "id": "6ca49df6-a173-4012-a9f8-0508d9bb1dea",
   "metadata": {},
   "outputs": [],
   "source": [
    "# Load the CSV file into a DataFrame\n",
    "file_path = 'data.csv'\n",
    "df = spark.read.csv(file_path, schema=schema, header=True)"
   ]
  },
  {
   "cell_type": "code",
   "execution_count": 7,
   "id": "718c86d5-45b6-419f-b491-68d128683f8c",
   "metadata": {},
   "outputs": [
    {
     "name": "stdout",
     "output_type": "stream",
     "text": [
      "Original DataFrame:\n",
      "+-------+------------------+\n",
      "|user_id|transaction_amount|\n",
      "+-------+------------------+\n",
      "|      5|            545.92|\n",
      "|     98|            386.07|\n",
      "|     30|            577.02|\n",
      "|     14|            479.49|\n",
      "|     34|            834.78|\n",
      "|     29|            531.64|\n",
      "|     72|            275.41|\n",
      "|     79|            272.48|\n",
      "|     38|            365.55|\n",
      "|     47|            902.76|\n",
      "|      8|            816.28|\n",
      "|     82|            610.81|\n",
      "|     29|             68.13|\n",
      "|     34|            568.34|\n",
      "|     26|            367.73|\n",
      "|     98|             118.9|\n",
      "|     54|            179.38|\n",
      "|     78|             31.64|\n",
      "|     43|            743.28|\n",
      "|     61|             667.6|\n",
      "+-------+------------------+\n",
      "only showing top 20 rows\n",
      "\n"
     ]
    }
   ],
   "source": [
    "# Show the DataFrame\n",
    "print(\"Original DataFrame:\")\n",
    "df.show()"
   ]
  },
  {
   "cell_type": "code",
   "execution_count": 8,
   "id": "e7cd03c7-f70e-4249-b6fe-b6f05f3598e6",
   "metadata": {},
   "outputs": [
    {
     "name": "stdout",
     "output_type": "stream",
     "text": [
      "Selected Columns:\n",
      "+-------+------------------+\n",
      "|user_id|transaction_amount|\n",
      "+-------+------------------+\n",
      "|      5|            545.92|\n",
      "|     98|            386.07|\n",
      "|     30|            577.02|\n",
      "|     14|            479.49|\n",
      "|     34|            834.78|\n",
      "|     29|            531.64|\n",
      "|     72|            275.41|\n",
      "|     79|            272.48|\n",
      "|     38|            365.55|\n",
      "|     47|            902.76|\n",
      "|      8|            816.28|\n",
      "|     82|            610.81|\n",
      "|     29|             68.13|\n",
      "|     34|            568.34|\n",
      "|     26|            367.73|\n",
      "|     98|             118.9|\n",
      "|     54|            179.38|\n",
      "|     78|             31.64|\n",
      "|     43|            743.28|\n",
      "|     61|             667.6|\n",
      "+-------+------------------+\n",
      "only showing top 20 rows\n",
      "\n"
     ]
    }
   ],
   "source": [
    "# Transformations\n",
    "print(\"Selected Columns:\")\n",
    "df_selected = df.select(\"user_id\", \"transaction_amount\")\n",
    "df_selected.show()"
   ]
  },
  {
   "cell_type": "code",
   "execution_count": 9,
   "id": "d3488bcb-e2ff-46e1-a03a-a80bd4e01d1f",
   "metadata": {},
   "outputs": [
    {
     "name": "stdout",
     "output_type": "stream",
     "text": [
      "Filtered Rows (transaction_amount > 500):\n",
      "+-------+------------------+\n",
      "|user_id|transaction_amount|\n",
      "+-------+------------------+\n",
      "|      5|            545.92|\n",
      "|     30|            577.02|\n",
      "|     34|            834.78|\n",
      "|     29|            531.64|\n",
      "|     47|            902.76|\n",
      "|      8|            816.28|\n",
      "|     82|            610.81|\n",
      "|     34|            568.34|\n",
      "|     43|            743.28|\n",
      "|     61|             667.6|\n",
      "|      5|            829.57|\n",
      "|     63|            812.76|\n",
      "|     39|            891.23|\n",
      "|     23|            533.22|\n",
      "|     79|             631.1|\n",
      "|     66|             964.8|\n",
      "|     27|            999.26|\n",
      "|     20|            536.66|\n",
      "|     61|            830.55|\n",
      "|     42|            533.76|\n",
      "+-------+------------------+\n",
      "only showing top 20 rows\n",
      "\n"
     ]
    }
   ],
   "source": [
    "print(\"Filtered Rows (transaction_amount > 500):\")\n",
    "df_filtered = df.filter(df[\"transaction_amount\"] > 500)\n",
    "df_filtered.show()"
   ]
  },
  {
   "cell_type": "code",
   "execution_count": 10,
   "id": "565d38bc-59c7-4dd8-ab29-beb39cb519e3",
   "metadata": {},
   "outputs": [
    {
     "name": "stdout",
     "output_type": "stream",
     "text": [
      "New Column with Tax (transaction_amount * 1.1):\n",
      "+-------+------------------+--------------------+\n",
      "|user_id|transaction_amount|transaction_with_tax|\n",
      "+-------+------------------+--------------------+\n",
      "|      5|            545.92|   600.5120000000001|\n",
      "|     98|            386.07|             424.677|\n",
      "|     30|            577.02|             634.722|\n",
      "|     14|            479.49|   527.4390000000001|\n",
      "|     34|            834.78|             918.258|\n",
      "|     29|            531.64|   584.8040000000001|\n",
      "|     72|            275.41|   302.9510000000001|\n",
      "|     79|            272.48|  299.72800000000007|\n",
      "|     38|            365.55|             402.105|\n",
      "|     47|            902.76|   993.0360000000001|\n",
      "|      8|            816.28|             897.908|\n",
      "|     82|            610.81|             671.891|\n",
      "|     29|             68.13|              74.943|\n",
      "|     34|            568.34|   625.1740000000001|\n",
      "|     26|            367.73|  404.50300000000004|\n",
      "|     98|             118.9|  130.79000000000002|\n",
      "|     54|            179.38|             197.318|\n",
      "|     78|             31.64|              34.804|\n",
      "|     43|            743.28|   817.6080000000001|\n",
      "|     61|             667.6|   734.3600000000001|\n",
      "+-------+------------------+--------------------+\n",
      "only showing top 20 rows\n",
      "\n"
     ]
    }
   ],
   "source": [
    "print(\"New Column with Tax (transaction_amount * 1.1):\")\n",
    "df_with_new_column = df.withColumn(\"transaction_with_tax\", df[\"transaction_amount\"] * 1.1)\n",
    "df_with_new_column.show()"
   ]
  },
  {
   "cell_type": "code",
   "execution_count": 11,
   "id": "c28efc90-3e7c-4e3a-a2c3-5d7258338ff1",
   "metadata": {},
   "outputs": [
    {
     "name": "stdout",
     "output_type": "stream",
     "text": [
      "Grouped by user_id and Aggregated Sum of transaction_amount:\n",
      "+-------+------------------+\n",
      "|user_id|      total_amount|\n",
      "+-------+------------------+\n",
      "|     31|2734.0200000000004|\n",
      "|     85|           4844.78|\n",
      "|     65|           5884.35|\n",
      "|     53|           4328.05|\n",
      "|     78|           4119.06|\n",
      "|     34|           8613.88|\n",
      "|     81|           2671.48|\n",
      "|     28| 9781.330000000002|\n",
      "|     76|           5682.46|\n",
      "|     26|           5087.62|\n",
      "|     27|           5184.84|\n",
      "|     44|            2529.5|\n",
      "|     12| 4981.290000000001|\n",
      "|     91|3996.2000000000007|\n",
      "|     22|           6635.94|\n",
      "|     93| 7866.179999999999|\n",
      "|     47|1936.5099999999998|\n",
      "|      1|           5392.26|\n",
      "|     52|           4924.38|\n",
      "|     13| 5036.950000000001|\n",
      "+-------+------------------+\n",
      "only showing top 20 rows\n",
      "\n"
     ]
    }
   ],
   "source": [
    "print(\"Grouped by user_id and Aggregated Sum of transaction_amount:\")\n",
    "df_grouped = df.groupBy(\"user_id\").agg(F.sum(\"transaction_amount\").alias(\"total_amount\"))\n",
    "df_grouped.show()"
   ]
  },
  {
   "cell_type": "code",
   "execution_count": 12,
   "id": "c8482208-4328-4ddb-bb03-42c681c6b494",
   "metadata": {},
   "outputs": [
    {
     "name": "stdout",
     "output_type": "stream",
     "text": [
      "Sorted by transaction_amount Descending:\n",
      "+-------+------------------+\n",
      "|user_id|transaction_amount|\n",
      "+-------+------------------+\n",
      "|     27|            999.26|\n",
      "|     80|            998.23|\n",
      "|     24|            997.41|\n",
      "|     60|            996.26|\n",
      "|     45|             995.6|\n",
      "|     27|            993.26|\n",
      "|     41|            992.91|\n",
      "|     23|            990.36|\n",
      "|     80|             990.2|\n",
      "|     70|            989.24|\n",
      "|     25|            989.11|\n",
      "|     53|            987.16|\n",
      "|     74|            986.07|\n",
      "|     32|            985.87|\n",
      "|     20|            985.44|\n",
      "|     40|            985.34|\n",
      "|     65|            985.21|\n",
      "|     49|            982.93|\n",
      "|     43|             982.3|\n",
      "|    100|            981.91|\n",
      "+-------+------------------+\n",
      "only showing top 20 rows\n",
      "\n"
     ]
    }
   ],
   "source": [
    "print(\"Sorted by transaction_amount Descending:\")\n",
    "df_sorted = df.orderBy(\"transaction_amount\", ascending=False)\n",
    "df_sorted.show()"
   ]
  },
  {
   "cell_type": "code",
   "execution_count": 13,
   "id": "8e71bc78-9ff0-49d4-9ba8-7926fcc1d734",
   "metadata": {},
   "outputs": [
    {
     "name": "stdout",
     "output_type": "stream",
     "text": [
      "Collected Data:\n",
      "[Row(user_id=5, transaction_amount=545.92), Row(user_id=98, transaction_amount=386.07), Row(user_id=30, transaction_amount=577.02), Row(user_id=14, transaction_amount=479.49), Row(user_id=34, transaction_amount=834.78), Row(user_id=29, transaction_amount=531.64), Row(user_id=72, transaction_amount=275.41), Row(user_id=79, transaction_amount=272.48), Row(user_id=38, transaction_amount=365.55), Row(user_id=47, transaction_amount=902.76), Row(user_id=8, transaction_amount=816.28), Row(user_id=82, transaction_amount=610.81), Row(user_id=29, transaction_amount=68.13), Row(user_id=34, transaction_amount=568.34), Row(user_id=26, transaction_amount=367.73), Row(user_id=98, transaction_amount=118.9), Row(user_id=54, transaction_amount=179.38), Row(user_id=78, transaction_amount=31.64), Row(user_id=43, transaction_amount=743.28), Row(user_id=61, transaction_amount=667.6), Row(user_id=28, transaction_amount=487.26), Row(user_id=87, transaction_amount=178.81), Row(user_id=5, transaction_amount=829.57), Row(user_id=63, transaction_amount=812.76), Row(user_id=88, transaction_amount=334.2), Row(user_id=60, transaction_amount=290.03), Row(user_id=41, transaction_amount=126.78), Row(user_id=96, transaction_amount=88.51), Row(user_id=59, transaction_amount=297.69), Row(user_id=39, transaction_amount=891.23), Row(user_id=31, transaction_amount=380.16), Row(user_id=23, transaction_amount=533.22), Row(user_id=79, transaction_amount=631.1), Row(user_id=66, transaction_amount=964.8), Row(user_id=31, transaction_amount=487.76), Row(user_id=39, transaction_amount=159.07), Row(user_id=27, transaction_amount=999.26), Row(user_id=85, transaction_amount=387.58), Row(user_id=20, transaction_amount=536.66), Row(user_id=28, transaction_amount=203.75), Row(user_id=65, transaction_amount=179.35), Row(user_id=77, transaction_amount=477.97), Row(user_id=64, transaction_amount=387.64), Row(user_id=68, transaction_amount=336.99), Row(user_id=5, transaction_amount=44.69), Row(user_id=53, transaction_amount=149.04), Row(user_id=46, transaction_amount=69.84), Row(user_id=61, transaction_amount=830.55), Row(user_id=64, transaction_amount=147.03), Row(user_id=23, transaction_amount=414.2), Row(user_id=42, transaction_amount=533.76), Row(user_id=31, transaction_amount=388.29), Row(user_id=29, transaction_amount=246.32), Row(user_id=29, transaction_amount=586.8), Row(user_id=69, transaction_amount=156.88), Row(user_id=51, transaction_amount=414.56), Row(user_id=98, transaction_amount=165.93), Row(user_id=52, transaction_amount=696.7), Row(user_id=20, transaction_amount=11.09), Row(user_id=67, transaction_amount=554.46), Row(user_id=25, transaction_amount=111.7), Row(user_id=100, transaction_amount=128.78), Row(user_id=30, transaction_amount=343.41), Row(user_id=31, transaction_amount=175.29), Row(user_id=54, transaction_amount=692.4), Row(user_id=94, transaction_amount=839.94), Row(user_id=37, transaction_amount=645.91), Row(user_id=89, transaction_amount=804.25), Row(user_id=51, transaction_amount=699.19), Row(user_id=60, transaction_amount=915.54), Row(user_id=20, transaction_amount=43.62), Row(user_id=70, transaction_amount=241.06), Row(user_id=10, transaction_amount=177.42), Row(user_id=91, transaction_amount=967.99), Row(user_id=93, transaction_amount=887.12), Row(user_id=84, transaction_amount=167.31), Row(user_id=48, transaction_amount=54.88), Row(user_id=19, transaction_amount=667.64), Row(user_id=35, transaction_amount=879.22), Row(user_id=4, transaction_amount=125.69), Row(user_id=29, transaction_amount=153.38), Row(user_id=17, transaction_amount=117.98), Row(user_id=67, transaction_amount=51.21), Row(user_id=88, transaction_amount=651.15), Row(user_id=55, transaction_amount=780.15), Row(user_id=61, transaction_amount=957.11), Row(user_id=32, transaction_amount=558.98), Row(user_id=8, transaction_amount=361.93), Row(user_id=94, transaction_amount=726.56), Row(user_id=69, transaction_amount=805.74), Row(user_id=41, transaction_amount=168.91), Row(user_id=9, transaction_amount=901.84), Row(user_id=76, transaction_amount=542.31), Row(user_id=60, transaction_amount=653.04), Row(user_id=96, transaction_amount=896.27), Row(user_id=36, transaction_amount=99.71), Row(user_id=74, transaction_amount=746.79), Row(user_id=79, transaction_amount=269.81), Row(user_id=14, transaction_amount=651.01), Row(user_id=57, transaction_amount=178.21), Row(user_id=82, transaction_amount=611.02), Row(user_id=26, transaction_amount=114.64), Row(user_id=71, transaction_amount=723.97), Row(user_id=98, transaction_amount=505.59), Row(user_id=8, transaction_amount=527.26), Row(user_id=27, transaction_amount=291.16), Row(user_id=6, transaction_amount=623.89), Row(user_id=10, transaction_amount=529.25), Row(user_id=94, transaction_amount=352.4), Row(user_id=10, transaction_amount=531.29), Row(user_id=13, transaction_amount=465.4), Row(user_id=42, transaction_amount=279.12), Row(user_id=81, transaction_amount=385.14), Row(user_id=7, transaction_amount=98.54), Row(user_id=23, transaction_amount=355.55), Row(user_id=86, transaction_amount=948.46), Row(user_id=74, transaction_amount=886.1), Row(user_id=58, transaction_amount=661.4), Row(user_id=55, transaction_amount=700.53), Row(user_id=65, transaction_amount=68.67), Row(user_id=91, transaction_amount=578.96), Row(user_id=60, transaction_amount=996.26), Row(user_id=5, transaction_amount=511.76), Row(user_id=60, transaction_amount=911.81), Row(user_id=14, transaction_amount=426.25), Row(user_id=16, transaction_amount=677.65), Row(user_id=81, transaction_amount=315.56), Row(user_id=49, transaction_amount=489.02), Row(user_id=82, transaction_amount=97.83), Row(user_id=13, transaction_amount=835.0), Row(user_id=51, transaction_amount=765.55), Row(user_id=42, transaction_amount=52.41), Row(user_id=86, transaction_amount=699.3), Row(user_id=62, transaction_amount=737.96), Row(user_id=50, transaction_amount=230.09), Row(user_id=53, transaction_amount=25.11), Row(user_id=89, transaction_amount=901.13), Row(user_id=34, transaction_amount=28.19), Row(user_id=41, transaction_amount=289.53), Row(user_id=8, transaction_amount=810.55), Row(user_id=55, transaction_amount=12.81), Row(user_id=45, transaction_amount=936.6), Row(user_id=79, transaction_amount=307.33), Row(user_id=52, transaction_amount=609.57), Row(user_id=99, transaction_amount=665.05), Row(user_id=22, transaction_amount=54.57), Row(user_id=18, transaction_amount=362.46), Row(user_id=90, transaction_amount=891.19), Row(user_id=78, transaction_amount=127.65), Row(user_id=60, transaction_amount=481.68), Row(user_id=93, transaction_amount=223.33), Row(user_id=22, transaction_amount=438.48), Row(user_id=50, transaction_amount=96.25), Row(user_id=39, transaction_amount=950.12), Row(user_id=95, transaction_amount=67.59), Row(user_id=26, transaction_amount=380.33), Row(user_id=17, transaction_amount=67.37), Row(user_id=63, transaction_amount=622.23), Row(user_id=9, transaction_amount=461.13), Row(user_id=94, transaction_amount=706.44), Row(user_id=77, transaction_amount=320.47), Row(user_id=80, transaction_amount=626.75), Row(user_id=37, transaction_amount=767.03), Row(user_id=22, transaction_amount=193.37), Row(user_id=92, transaction_amount=968.16), Row(user_id=27, transaction_amount=669.96), Row(user_id=28, transaction_amount=253.92), Row(user_id=100, transaction_amount=604.95), Row(user_id=24, transaction_amount=207.6), Row(user_id=28, transaction_amount=718.4), Row(user_id=66, transaction_amount=118.98), Row(user_id=72, transaction_amount=754.39), Row(user_id=54, transaction_amount=472.72), Row(user_id=74, transaction_amount=719.75), Row(user_id=26, transaction_amount=235.91), Row(user_id=39, transaction_amount=481.2), Row(user_id=56, transaction_amount=889.77), Row(user_id=56, transaction_amount=373.16), Row(user_id=80, transaction_amount=524.07), Row(user_id=98, transaction_amount=669.31), Row(user_id=100, transaction_amount=472.68), Row(user_id=54, transaction_amount=135.6), Row(user_id=41, transaction_amount=202.6), Row(user_id=41, transaction_amount=258.52), Row(user_id=34, transaction_amount=738.05), Row(user_id=42, transaction_amount=70.53), Row(user_id=25, transaction_amount=729.86), Row(user_id=83, transaction_amount=2.9), Row(user_id=92, transaction_amount=545.99), Row(user_id=63, transaction_amount=744.64), Row(user_id=20, transaction_amount=949.64), Row(user_id=33, transaction_amount=251.44), Row(user_id=21, transaction_amount=78.22), Row(user_id=42, transaction_amount=941.27), Row(user_id=82, transaction_amount=136.21), Row(user_id=32, transaction_amount=953.03), Row(user_id=48, transaction_amount=311.13), Row(user_id=34, transaction_amount=659.37), Row(user_id=8, transaction_amount=937.43), Row(user_id=45, transaction_amount=995.6), Row(user_id=33, transaction_amount=250.97), Row(user_id=28, transaction_amount=597.17), Row(user_id=19, transaction_amount=24.35), Row(user_id=68, transaction_amount=619.45), Row(user_id=50, transaction_amount=862.83), Row(user_id=44, transaction_amount=78.56), Row(user_id=4, transaction_amount=225.43), Row(user_id=49, transaction_amount=967.15), Row(user_id=26, transaction_amount=957.64), Row(user_id=34, transaction_amount=124.82), Row(user_id=51, transaction_amount=973.23), Row(user_id=72, transaction_amount=769.04), Row(user_id=6, transaction_amount=337.01), Row(user_id=7, transaction_amount=841.05), Row(user_id=98, transaction_amount=976.34), Row(user_id=58, transaction_amount=226.76), Row(user_id=99, transaction_amount=313.26), Row(user_id=1, transaction_amount=543.38), Row(user_id=12, transaction_amount=453.21), Row(user_id=21, transaction_amount=868.81), Row(user_id=14, transaction_amount=186.99), Row(user_id=25, transaction_amount=684.74), Row(user_id=15, transaction_amount=397.14), Row(user_id=1, transaction_amount=795.78), Row(user_id=93, transaction_amount=368.27), Row(user_id=20, transaction_amount=772.16), Row(user_id=96, transaction_amount=565.53), Row(user_id=46, transaction_amount=945.23), Row(user_id=88, transaction_amount=463.83), Row(user_id=50, transaction_amount=435.99), Row(user_id=90, transaction_amount=11.63), Row(user_id=92, transaction_amount=176.7), Row(user_id=24, transaction_amount=88.82), Row(user_id=22, transaction_amount=386.17), Row(user_id=96, transaction_amount=72.09), Row(user_id=95, transaction_amount=652.76), Row(user_id=65, transaction_amount=429.46), Row(user_id=89, transaction_amount=625.55), Row(user_id=82, transaction_amount=698.32), Row(user_id=16, transaction_amount=598.71), Row(user_id=62, transaction_amount=485.05), Row(user_id=16, transaction_amount=330.22), Row(user_id=56, transaction_amount=385.78), Row(user_id=29, transaction_amount=283.08), Row(user_id=10, transaction_amount=494.97), Row(user_id=24, transaction_amount=437.62), Row(user_id=94, transaction_amount=384.55), Row(user_id=60, transaction_amount=441.67), Row(user_id=9, transaction_amount=432.07), Row(user_id=53, transaction_amount=730.33), Row(user_id=68, transaction_amount=821.54), Row(user_id=37, transaction_amount=581.54), Row(user_id=38, transaction_amount=342.11), Row(user_id=7, transaction_amount=772.45), Row(user_id=7, transaction_amount=73.98), Row(user_id=89, transaction_amount=701.16), Row(user_id=80, transaction_amount=636.92), Row(user_id=90, transaction_amount=313.28), Row(user_id=17, transaction_amount=93.16), Row(user_id=93, transaction_amount=238.11), Row(user_id=22, transaction_amount=916.86), Row(user_id=65, transaction_amount=151.53), Row(user_id=67, transaction_amount=844.84), Row(user_id=6, transaction_amount=127.78), Row(user_id=52, transaction_amount=544.62), Row(user_id=81, transaction_amount=446.64), Row(user_id=62, transaction_amount=295.58), Row(user_id=87, transaction_amount=770.4), Row(user_id=26, transaction_amount=635.59), Row(user_id=18, transaction_amount=783.75), Row(user_id=53, transaction_amount=987.16), Row(user_id=87, transaction_amount=416.89), Row(user_id=44, transaction_amount=203.65), Row(user_id=22, transaction_amount=775.84), Row(user_id=22, transaction_amount=638.7), Row(user_id=34, transaction_amount=886.31), Row(user_id=25, transaction_amount=681.8), Row(user_id=29, transaction_amount=46.76), Row(user_id=51, transaction_amount=656.78), Row(user_id=88, transaction_amount=517.5), Row(user_id=41, transaction_amount=460.14), Row(user_id=58, transaction_amount=206.32), Row(user_id=12, transaction_amount=581.31), Row(user_id=79, transaction_amount=183.64), Row(user_id=60, transaction_amount=855.76), Row(user_id=84, transaction_amount=658.56), Row(user_id=33, transaction_amount=740.31), Row(user_id=4, transaction_amount=266.68), Row(user_id=6, transaction_amount=906.82), Row(user_id=2, transaction_amount=471.68), Row(user_id=18, transaction_amount=326.26), Row(user_id=38, transaction_amount=100.09), Row(user_id=12, transaction_amount=433.24), Row(user_id=27, transaction_amount=678.23), Row(user_id=19, transaction_amount=525.12), Row(user_id=49, transaction_amount=645.48), Row(user_id=54, transaction_amount=60.75), Row(user_id=8, transaction_amount=14.35), Row(user_id=49, transaction_amount=624.46), Row(user_id=89, transaction_amount=103.32), Row(user_id=10, transaction_amount=306.47), Row(user_id=50, transaction_amount=701.05), Row(user_id=86, transaction_amount=16.45), Row(user_id=6, transaction_amount=741.01), Row(user_id=84, transaction_amount=64.22), Row(user_id=68, transaction_amount=397.76), Row(user_id=4, transaction_amount=189.27), Row(user_id=91, transaction_amount=726.64), Row(user_id=54, transaction_amount=490.5), Row(user_id=57, transaction_amount=673.84), Row(user_id=36, transaction_amount=339.3), Row(user_id=63, transaction_amount=675.84), Row(user_id=44, transaction_amount=478.62), Row(user_id=22, transaction_amount=635.45), Row(user_id=1, transaction_amount=22.01), Row(user_id=15, transaction_amount=401.91), Row(user_id=38, transaction_amount=612.95), Row(user_id=64, transaction_amount=935.15), Row(user_id=30, transaction_amount=694.36), Row(user_id=70, transaction_amount=620.71), Row(user_id=59, transaction_amount=634.82), Row(user_id=17, transaction_amount=294.03), Row(user_id=79, transaction_amount=237.95), Row(user_id=41, transaction_amount=626.7), Row(user_id=77, transaction_amount=720.23), Row(user_id=40, transaction_amount=754.0), Row(user_id=58, transaction_amount=169.11), Row(user_id=54, transaction_amount=541.27), Row(user_id=38, transaction_amount=74.33), Row(user_id=10, transaction_amount=647.34), Row(user_id=19, transaction_amount=65.52), Row(user_id=45, transaction_amount=823.95), Row(user_id=6, transaction_amount=549.19), Row(user_id=62, transaction_amount=385.03), Row(user_id=97, transaction_amount=478.61), Row(user_id=27, transaction_amount=958.14), Row(user_id=59, transaction_amount=861.08), Row(user_id=38, transaction_amount=115.16), Row(user_id=49, transaction_amount=835.81), Row(user_id=2, transaction_amount=696.01), Row(user_id=62, transaction_amount=310.13), Row(user_id=54, transaction_amount=958.95), Row(user_id=23, transaction_amount=180.03), Row(user_id=43, transaction_amount=667.83), Row(user_id=61, transaction_amount=395.82), Row(user_id=35, transaction_amount=548.24), Row(user_id=56, transaction_amount=109.19), Row(user_id=98, transaction_amount=440.71), Row(user_id=48, transaction_amount=148.04), Row(user_id=87, transaction_amount=456.84), Row(user_id=68, transaction_amount=252.48), Row(user_id=1, transaction_amount=917.44), Row(user_id=10, transaction_amount=748.5), Row(user_id=94, transaction_amount=608.88), Row(user_id=43, transaction_amount=835.06), Row(user_id=67, transaction_amount=493.02), Row(user_id=46, transaction_amount=909.49), Row(user_id=12, transaction_amount=835.14), Row(user_id=48, transaction_amount=953.03), Row(user_id=87, transaction_amount=203.56), Row(user_id=8, transaction_amount=895.5), Row(user_id=21, transaction_amount=895.44), Row(user_id=5, transaction_amount=435.66), Row(user_id=25, transaction_amount=76.5), Row(user_id=89, transaction_amount=403.11), Row(user_id=19, transaction_amount=258.56), Row(user_id=8, transaction_amount=956.43), Row(user_id=80, transaction_amount=646.51), Row(user_id=45, transaction_amount=537.76), Row(user_id=19, transaction_amount=895.78), Row(user_id=42, transaction_amount=500.79), Row(user_id=58, transaction_amount=657.93), Row(user_id=34, transaction_amount=639.55), Row(user_id=61, transaction_amount=657.82), Row(user_id=20, transaction_amount=640.45), Row(user_id=32, transaction_amount=384.68), Row(user_id=89, transaction_amount=860.85), Row(user_id=28, transaction_amount=558.43), Row(user_id=80, transaction_amount=998.23), Row(user_id=87, transaction_amount=924.69), Row(user_id=92, transaction_amount=690.2), Row(user_id=13, transaction_amount=402.2), Row(user_id=25, transaction_amount=565.72), Row(user_id=73, transaction_amount=420.43), Row(user_id=1, transaction_amount=885.18), Row(user_id=16, transaction_amount=701.19), Row(user_id=28, transaction_amount=548.66), Row(user_id=27, transaction_amount=306.26), Row(user_id=28, transaction_amount=742.86), Row(user_id=78, transaction_amount=347.12), Row(user_id=18, transaction_amount=640.89), Row(user_id=71, transaction_amount=974.47), Row(user_id=56, transaction_amount=66.12), Row(user_id=80, transaction_amount=278.36), Row(user_id=40, transaction_amount=603.92), Row(user_id=64, transaction_amount=162.83), Row(user_id=42, transaction_amount=684.99), Row(user_id=64, transaction_amount=74.67), Row(user_id=69, transaction_amount=239.27), Row(user_id=7, transaction_amount=306.2), Row(user_id=34, transaction_amount=748.04), Row(user_id=56, transaction_amount=370.04), Row(user_id=4, transaction_amount=874.87), Row(user_id=72, transaction_amount=341.71), Row(user_id=15, transaction_amount=419.7), Row(user_id=50, transaction_amount=134.68), Row(user_id=50, transaction_amount=683.67), Row(user_id=67, transaction_amount=475.14), Row(user_id=93, transaction_amount=762.92), Row(user_id=20, transaction_amount=985.44), Row(user_id=66, transaction_amount=95.72), Row(user_id=67, transaction_amount=684.92), Row(user_id=73, transaction_amount=466.84), Row(user_id=13, transaction_amount=959.71), Row(user_id=34, transaction_amount=66.61), Row(user_id=19, transaction_amount=578.84), Row(user_id=53, transaction_amount=291.55), Row(user_id=57, transaction_amount=313.73), Row(user_id=57, transaction_amount=75.62), Row(user_id=42, transaction_amount=389.37), Row(user_id=51, transaction_amount=431.85), Row(user_id=44, transaction_amount=246.09), Row(user_id=73, transaction_amount=18.15), Row(user_id=28, transaction_amount=727.46), Row(user_id=71, transaction_amount=798.29), Row(user_id=73, transaction_amount=372.17), Row(user_id=98, transaction_amount=575.34), Row(user_id=30, transaction_amount=93.29), Row(user_id=32, transaction_amount=189.21), Row(user_id=4, transaction_amount=386.08), Row(user_id=23, transaction_amount=384.27), Row(user_id=90, transaction_amount=961.65), Row(user_id=51, transaction_amount=949.29), Row(user_id=43, transaction_amount=500.64), Row(user_id=73, transaction_amount=756.48), Row(user_id=74, transaction_amount=986.07), Row(user_id=71, transaction_amount=5.32), Row(user_id=100, transaction_amount=206.11), Row(user_id=35, transaction_amount=374.64), Row(user_id=39, transaction_amount=863.9), Row(user_id=93, transaction_amount=639.78), Row(user_id=42, transaction_amount=205.93), Row(user_id=66, transaction_amount=537.61), Row(user_id=18, transaction_amount=292.26), Row(user_id=94, transaction_amount=569.71), Row(user_id=65, transaction_amount=775.14), Row(user_id=44, transaction_amount=452.72), Row(user_id=25, transaction_amount=54.94), Row(user_id=76, transaction_amount=514.38), Row(user_id=86, transaction_amount=794.13), Row(user_id=91, transaction_amount=380.5), Row(user_id=55, transaction_amount=755.57), Row(user_id=6, transaction_amount=173.52), Row(user_id=75, transaction_amount=197.66), Row(user_id=52, transaction_amount=865.47), Row(user_id=6, transaction_amount=122.04), Row(user_id=84, transaction_amount=197.21), Row(user_id=27, transaction_amount=993.26), Row(user_id=22, transaction_amount=779.41), Row(user_id=92, transaction_amount=335.81), Row(user_id=45, transaction_amount=849.65), Row(user_id=59, transaction_amount=620.64), Row(user_id=47, transaction_amount=124.59), Row(user_id=47, transaction_amount=226.31), Row(user_id=4, transaction_amount=291.81), Row(user_id=28, transaction_amount=329.14), Row(user_id=80, transaction_amount=210.36), Row(user_id=22, transaction_amount=436.65), Row(user_id=77, transaction_amount=532.83), Row(user_id=30, transaction_amount=606.06), Row(user_id=52, transaction_amount=107.66), Row(user_id=45, transaction_amount=716.68), Row(user_id=86, transaction_amount=80.42), Row(user_id=1, transaction_amount=731.81), Row(user_id=1, transaction_amount=969.14), Row(user_id=32, transaction_amount=440.95), Row(user_id=23, transaction_amount=268.53), Row(user_id=28, transaction_amount=54.85), Row(user_id=68, transaction_amount=505.68), Row(user_id=88, transaction_amount=425.91), Row(user_id=28, transaction_amount=479.83), Row(user_id=90, transaction_amount=320.3), Row(user_id=15, transaction_amount=26.81), Row(user_id=77, transaction_amount=863.88), Row(user_id=89, transaction_amount=883.89), Row(user_id=42, transaction_amount=449.58), Row(user_id=9, transaction_amount=83.72), Row(user_id=79, transaction_amount=62.31), Row(user_id=46, transaction_amount=864.34), Row(user_id=33, transaction_amount=662.3), Row(user_id=95, transaction_amount=230.53), Row(user_id=51, transaction_amount=690.57), Row(user_id=25, transaction_amount=658.59), Row(user_id=26, transaction_amount=426.92), Row(user_id=27, transaction_amount=288.57), Row(user_id=81, transaction_amount=155.62), Row(user_id=49, transaction_amount=343.09), Row(user_id=60, transaction_amount=161.4), Row(user_id=68, transaction_amount=427.11), Row(user_id=34, transaction_amount=748.97), Row(user_id=62, transaction_amount=404.65), Row(user_id=81, transaction_amount=698.77), Row(user_id=3, transaction_amount=24.5), Row(user_id=87, transaction_amount=762.37), Row(user_id=24, transaction_amount=366.2), Row(user_id=32, transaction_amount=253.15), Row(user_id=91, transaction_amount=303.51), Row(user_id=67, transaction_amount=816.65), Row(user_id=16, transaction_amount=676.49), Row(user_id=23, transaction_amount=140.73), Row(user_id=59, transaction_amount=6.98), Row(user_id=75, transaction_amount=909.79), Row(user_id=78, transaction_amount=805.22), Row(user_id=90, transaction_amount=233.15), Row(user_id=29, transaction_amount=61.38), Row(user_id=10, transaction_amount=772.28), Row(user_id=42, transaction_amount=527.77), Row(user_id=82, transaction_amount=422.98), Row(user_id=36, transaction_amount=446.86), Row(user_id=96, transaction_amount=832.88), Row(user_id=41, transaction_amount=241.52), Row(user_id=46, transaction_amount=331.65), Row(user_id=6, transaction_amount=799.32), Row(user_id=37, transaction_amount=443.79), Row(user_id=37, transaction_amount=154.18), Row(user_id=3, transaction_amount=529.98), Row(user_id=12, transaction_amount=829.98), Row(user_id=76, transaction_amount=899.29), Row(user_id=89, transaction_amount=570.22), Row(user_id=72, transaction_amount=346.91), Row(user_id=55, transaction_amount=773.86), Row(user_id=55, transaction_amount=325.88), Row(user_id=64, transaction_amount=480.94), Row(user_id=96, transaction_amount=152.6), Row(user_id=46, transaction_amount=563.79), Row(user_id=68, transaction_amount=601.48), Row(user_id=21, transaction_amount=256.76), Row(user_id=60, transaction_amount=663.97), Row(user_id=65, transaction_amount=943.26), Row(user_id=14, transaction_amount=475.78), Row(user_id=46, transaction_amount=239.38), Row(user_id=74, transaction_amount=274.46), Row(user_id=25, transaction_amount=886.6), Row(user_id=25, transaction_amount=642.02), Row(user_id=9, transaction_amount=105.03), Row(user_id=76, transaction_amount=805.4), Row(user_id=28, transaction_amount=617.6), Row(user_id=21, transaction_amount=951.49), Row(user_id=18, transaction_amount=428.52), Row(user_id=6, transaction_amount=685.88), Row(user_id=87, transaction_amount=660.67), Row(user_id=72, transaction_amount=276.98), Row(user_id=35, transaction_amount=655.36), Row(user_id=28, transaction_amount=729.71), Row(user_id=20, transaction_amount=312.75), Row(user_id=86, transaction_amount=702.27), Row(user_id=53, transaction_amount=318.82), Row(user_id=52, transaction_amount=560.92), Row(user_id=86, transaction_amount=7.51), Row(user_id=62, transaction_amount=527.97), Row(user_id=52, transaction_amount=526.65), Row(user_id=9, transaction_amount=530.56), Row(user_id=86, transaction_amount=323.55), Row(user_id=28, transaction_amount=796.37), Row(user_id=36, transaction_amount=714.53), Row(user_id=81, transaction_amount=520.58), Row(user_id=45, transaction_amount=159.21), Row(user_id=18, transaction_amount=981.42), Row(user_id=85, transaction_amount=638.93), Row(user_id=99, transaction_amount=241.47), Row(user_id=93, transaction_amount=918.2), Row(user_id=99, transaction_amount=190.62), Row(user_id=24, transaction_amount=337.82), Row(user_id=3, transaction_amount=122.67), Row(user_id=80, transaction_amount=766.12), Row(user_id=14, transaction_amount=109.33), Row(user_id=43, transaction_amount=548.99), Row(user_id=31, transaction_amount=632.42), Row(user_id=34, transaction_amount=694.46), Row(user_id=85, transaction_amount=594.53), Row(user_id=38, transaction_amount=345.69), Row(user_id=11, transaction_amount=709.36), Row(user_id=53, transaction_amount=9.85), Row(user_id=22, transaction_amount=517.11), Row(user_id=56, transaction_amount=719.04), Row(user_id=74, transaction_amount=140.11), Row(user_id=32, transaction_amount=387.5), Row(user_id=73, transaction_amount=584.93), Row(user_id=91, transaction_amount=286.55), Row(user_id=58, transaction_amount=946.57), Row(user_id=84, transaction_amount=832.99), Row(user_id=28, transaction_amount=189.97), Row(user_id=45, transaction_amount=748.39), Row(user_id=16, transaction_amount=748.03), Row(user_id=13, transaction_amount=477.38), Row(user_id=44, transaction_amount=236.61), Row(user_id=63, transaction_amount=263.51), Row(user_id=88, transaction_amount=303.72), Row(user_id=6, transaction_amount=409.54), Row(user_id=29, transaction_amount=248.78), Row(user_id=39, transaction_amount=44.62), Row(user_id=15, transaction_amount=643.27), Row(user_id=66, transaction_amount=74.91), Row(user_id=79, transaction_amount=446.67), Row(user_id=25, transaction_amount=722.62), Row(user_id=78, transaction_amount=618.09), Row(user_id=39, transaction_amount=315.31), Row(user_id=74, transaction_amount=916.16), Row(user_id=24, transaction_amount=642.93), Row(user_id=80, transaction_amount=972.5), Row(user_id=2, transaction_amount=57.32), Row(user_id=51, transaction_amount=948.37), Row(user_id=22, transaction_amount=762.75), Row(user_id=7, transaction_amount=234.6), Row(user_id=20, transaction_amount=606.16), Row(user_id=10, transaction_amount=481.73), Row(user_id=25, transaction_amount=989.11), Row(user_id=17, transaction_amount=727.53), Row(user_id=13, transaction_amount=931.69), Row(user_id=78, transaction_amount=142.96), Row(user_id=1, transaction_amount=70.59), Row(user_id=38, transaction_amount=356.57), Row(user_id=35, transaction_amount=111.16), Row(user_id=98, transaction_amount=51.51), Row(user_id=21, transaction_amount=338.09), Row(user_id=39, transaction_amount=513.96), Row(user_id=72, transaction_amount=788.94), Row(user_id=77, transaction_amount=878.07), Row(user_id=75, transaction_amount=880.78), Row(user_id=8, transaction_amount=522.15), Row(user_id=45, transaction_amount=783.19), Row(user_id=97, transaction_amount=965.28), Row(user_id=4, transaction_amount=101.77), Row(user_id=7, transaction_amount=331.81), Row(user_id=41, transaction_amount=509.42), Row(user_id=99, transaction_amount=592.85), Row(user_id=100, transaction_amount=477.55), Row(user_id=60, transaction_amount=967.95), Row(user_id=22, transaction_amount=100.58), Row(user_id=16, transaction_amount=738.81), Row(user_id=93, transaction_amount=702.56), Row(user_id=20, transaction_amount=130.57), Row(user_id=62, transaction_amount=969.33), Row(user_id=92, transaction_amount=614.54), Row(user_id=37, transaction_amount=595.59), Row(user_id=84, transaction_amount=304.48), Row(user_id=34, transaction_amount=37.37), Row(user_id=41, transaction_amount=817.04), Row(user_id=36, transaction_amount=632.13), Row(user_id=46, transaction_amount=418.52), Row(user_id=16, transaction_amount=414.73), Row(user_id=55, transaction_amount=571.73), Row(user_id=13, transaction_amount=456.06), Row(user_id=6, transaction_amount=220.63), Row(user_id=30, transaction_amount=294.64), Row(user_id=34, transaction_amount=839.91), Row(user_id=98, transaction_amount=462.41), Row(user_id=1, transaction_amount=456.93), Row(user_id=34, transaction_amount=102.96), Row(user_id=69, transaction_amount=156.31), Row(user_id=88, transaction_amount=377.33), Row(user_id=58, transaction_amount=390.28), Row(user_id=75, transaction_amount=440.5), Row(user_id=64, transaction_amount=658.38), Row(user_id=49, transaction_amount=982.93), Row(user_id=13, transaction_amount=503.95), Row(user_id=55, transaction_amount=281.25), Row(user_id=38, transaction_amount=291.01), Row(user_id=60, transaction_amount=370.75), Row(user_id=33, transaction_amount=895.02), Row(user_id=95, transaction_amount=946.0), Row(user_id=69, transaction_amount=929.1), Row(user_id=70, transaction_amount=989.24), Row(user_id=24, transaction_amount=997.41), Row(user_id=44, transaction_amount=338.14), Row(user_id=77, transaction_amount=30.28), Row(user_id=17, transaction_amount=963.44), Row(user_id=46, transaction_amount=404.88), Row(user_id=42, transaction_amount=449.15), Row(user_id=53, transaction_amount=373.75), Row(user_id=9, transaction_amount=798.38), Row(user_id=62, transaction_amount=937.43), Row(user_id=94, transaction_amount=456.61), Row(user_id=20, transaction_amount=103.85), Row(user_id=23, transaction_amount=174.74), Row(user_id=80, transaction_amount=298.27), Row(user_id=93, transaction_amount=751.07), Row(user_id=35, transaction_amount=726.76), Row(user_id=40, transaction_amount=14.49), Row(user_id=92, transaction_amount=501.55), Row(user_id=11, transaction_amount=292.51), Row(user_id=29, transaction_amount=390.04), Row(user_id=35, transaction_amount=69.0), Row(user_id=24, transaction_amount=538.19), Row(user_id=74, transaction_amount=243.58), Row(user_id=26, transaction_amount=803.28), Row(user_id=92, transaction_amount=921.96), Row(user_id=68, transaction_amount=853.04), Row(user_id=88, transaction_amount=60.31), Row(user_id=92, transaction_amount=949.28), Row(user_id=65, transaction_amount=241.9), Row(user_id=45, transaction_amount=688.52), Row(user_id=9, transaction_amount=423.14), Row(user_id=55, transaction_amount=226.08), Row(user_id=54, transaction_amount=977.91), Row(user_id=11, transaction_amount=305.48), Row(user_id=20, transaction_amount=395.71), Row(user_id=41, transaction_amount=518.02), Row(user_id=49, transaction_amount=695.91), Row(user_id=86, transaction_amount=61.45), Row(user_id=67, transaction_amount=34.71), Row(user_id=51, transaction_amount=801.57), Row(user_id=69, transaction_amount=224.7), Row(user_id=53, transaction_amount=392.32), Row(user_id=39, transaction_amount=357.15), Row(user_id=79, transaction_amount=41.53), Row(user_id=46, transaction_amount=942.61), Row(user_id=100, transaction_amount=298.25), Row(user_id=12, transaction_amount=256.62), Row(user_id=58, transaction_amount=120.57), Row(user_id=63, transaction_amount=491.81), Row(user_id=67, transaction_amount=881.67), Row(user_id=44, transaction_amount=109.67), Row(user_id=87, transaction_amount=837.55), Row(user_id=94, transaction_amount=633.68), Row(user_id=33, transaction_amount=512.46), Row(user_id=25, transaction_amount=936.11), Row(user_id=62, transaction_amount=505.99), Row(user_id=100, transaction_amount=930.51), Row(user_id=33, transaction_amount=410.24), Row(user_id=89, transaction_amount=561.65), Row(user_id=11, transaction_amount=98.98), Row(user_id=51, transaction_amount=549.69), Row(user_id=2, transaction_amount=321.22), Row(user_id=90, transaction_amount=905.19), Row(user_id=9, transaction_amount=500.2), Row(user_id=70, transaction_amount=826.52), Row(user_id=43, transaction_amount=742.64), Row(user_id=14, transaction_amount=643.19), Row(user_id=83, transaction_amount=828.01), Row(user_id=76, transaction_amount=590.15), Row(user_id=32, transaction_amount=666.86), Row(user_id=5, transaction_amount=789.97), Row(user_id=43, transaction_amount=474.44), Row(user_id=15, transaction_amount=528.19), Row(user_id=5, transaction_amount=956.92), Row(user_id=50, transaction_amount=831.9), Row(user_id=36, transaction_amount=400.88), Row(user_id=87, transaction_amount=604.81), Row(user_id=24, transaction_amount=219.84), Row(user_id=23, transaction_amount=112.85), Row(user_id=80, transaction_amount=493.22), Row(user_id=94, transaction_amount=603.61), Row(user_id=24, transaction_amount=287.47), Row(user_id=34, transaction_amount=570.15), Row(user_id=16, transaction_amount=61.52), Row(user_id=2, transaction_amount=676.23), Row(user_id=65, transaction_amount=929.4), Row(user_id=71, transaction_amount=324.32), Row(user_id=66, transaction_amount=578.93), Row(user_id=76, transaction_amount=936.26), Row(user_id=68, transaction_amount=273.63), Row(user_id=41, transaction_amount=853.47), Row(user_id=11, transaction_amount=558.74), Row(user_id=67, transaction_amount=559.12), Row(user_id=99, transaction_amount=35.85), Row(user_id=39, transaction_amount=942.02), Row(user_id=58, transaction_amount=344.97), Row(user_id=76, transaction_amount=975.74), Row(user_id=8, transaction_amount=793.26), Row(user_id=10, transaction_amount=865.02), Row(user_id=28, transaction_amount=435.65), Row(user_id=88, transaction_amount=84.16), Row(user_id=94, transaction_amount=422.88), Row(user_id=56, transaction_amount=759.29), Row(user_id=66, transaction_amount=24.9), Row(user_id=68, transaction_amount=680.61), Row(user_id=49, transaction_amount=872.36), Row(user_id=48, transaction_amount=930.89), Row(user_id=84, transaction_amount=636.89), Row(user_id=72, transaction_amount=756.16), Row(user_id=20, transaction_amount=929.0), Row(user_id=26, transaction_amount=920.2), Row(user_id=82, transaction_amount=569.26), Row(user_id=53, transaction_amount=608.97), Row(user_id=65, transaction_amount=281.46), Row(user_id=51, transaction_amount=463.35), Row(user_id=74, transaction_amount=403.55), Row(user_id=11, transaction_amount=589.01), Row(user_id=17, transaction_amount=825.71), Row(user_id=18, transaction_amount=2.83), Row(user_id=23, transaction_amount=188.23), Row(user_id=62, transaction_amount=381.42), Row(user_id=11, transaction_amount=862.65), Row(user_id=45, transaction_amount=559.54), Row(user_id=47, transaction_amount=682.85), Row(user_id=80, transaction_amount=809.13), Row(user_id=84, transaction_amount=88.15), Row(user_id=43, transaction_amount=982.3), Row(user_id=49, transaction_amount=559.08), Row(user_id=6, transaction_amount=782.75), Row(user_id=75, transaction_amount=745.34), Row(user_id=73, transaction_amount=294.27), Row(user_id=18, transaction_amount=857.35), Row(user_id=64, transaction_amount=587.6), Row(user_id=55, transaction_amount=729.73), Row(user_id=62, transaction_amount=221.23), Row(user_id=89, transaction_amount=600.03), Row(user_id=63, transaction_amount=705.93), Row(user_id=18, transaction_amount=457.29), Row(user_id=33, transaction_amount=1.22), Row(user_id=88, transaction_amount=669.18), Row(user_id=82, transaction_amount=752.57), Row(user_id=93, transaction_amount=221.18), Row(user_id=35, transaction_amount=214.63), Row(user_id=43, transaction_amount=528.03), Row(user_id=70, transaction_amount=32.7), Row(user_id=94, transaction_amount=291.01), Row(user_id=92, transaction_amount=542.44), Row(user_id=6, transaction_amount=596.29), Row(user_id=71, transaction_amount=774.67), Row(user_id=89, transaction_amount=614.6), Row(user_id=41, transaction_amount=172.62), Row(user_id=31, transaction_amount=393.09), Row(user_id=2, transaction_amount=330.95), Row(user_id=6, transaction_amount=779.05), Row(user_id=99, transaction_amount=454.19), Row(user_id=85, transaction_amount=475.29), Row(user_id=85, transaction_amount=763.26), Row(user_id=88, transaction_amount=754.39), Row(user_id=83, transaction_amount=750.0), Row(user_id=56, transaction_amount=650.37), Row(user_id=29, transaction_amount=512.28), Row(user_id=70, transaction_amount=637.76), Row(user_id=17, transaction_amount=352.52), Row(user_id=40, transaction_amount=985.34), Row(user_id=95, transaction_amount=101.0), Row(user_id=34, transaction_amount=326.0), Row(user_id=17, transaction_amount=325.47), Row(user_id=37, transaction_amount=379.93), Row(user_id=5, transaction_amount=480.19), Row(user_id=63, transaction_amount=583.73), Row(user_id=80, transaction_amount=314.73), Row(user_id=7, transaction_amount=393.24), Row(user_id=85, transaction_amount=723.18), Row(user_id=87, transaction_amount=576.86), Row(user_id=70, transaction_amount=459.77), Row(user_id=93, transaction_amount=119.77), Row(user_id=62, transaction_amount=680.2), Row(user_id=54, transaction_amount=929.02), Row(user_id=21, transaction_amount=860.37), Row(user_id=80, transaction_amount=990.2), Row(user_id=100, transaction_amount=981.91), Row(user_id=30, transaction_amount=278.26), Row(user_id=49, transaction_amount=768.89), Row(user_id=44, transaction_amount=385.44), Row(user_id=49, transaction_amount=875.68), Row(user_id=85, transaction_amount=577.54), Row(user_id=72, transaction_amount=892.6), Row(user_id=78, transaction_amount=345.56), Row(user_id=65, transaction_amount=985.21), Row(user_id=93, transaction_amount=663.33), Row(user_id=99, transaction_amount=96.57), Row(user_id=50, transaction_amount=661.31), Row(user_id=38, transaction_amount=589.58), Row(user_id=98, transaction_amount=357.02), Row(user_id=55, transaction_amount=563.13), Row(user_id=41, transaction_amount=992.91), Row(user_id=50, transaction_amount=975.35), Row(user_id=96, transaction_amount=838.13), Row(user_id=77, transaction_amount=397.55), Row(user_id=25, transaction_amount=110.42), Row(user_id=15, transaction_amount=446.2), Row(user_id=3, transaction_amount=891.01), Row(user_id=19, transaction_amount=566.1), Row(user_id=62, transaction_amount=530.68), Row(user_id=28, transaction_amount=203.68), Row(user_id=77, transaction_amount=874.29), Row(user_id=59, transaction_amount=15.46), Row(user_id=45, transaction_amount=530.89), Row(user_id=21, transaction_amount=459.01), Row(user_id=15, transaction_amount=637.63), Row(user_id=90, transaction_amount=363.69), Row(user_id=43, transaction_amount=190.93), Row(user_id=90, transaction_amount=496.69), Row(user_id=26, transaction_amount=245.38), Row(user_id=12, transaction_amount=951.44), Row(user_id=90, transaction_amount=752.28), Row(user_id=49, transaction_amount=69.58), Row(user_id=79, transaction_amount=690.4), Row(user_id=55, transaction_amount=597.05), Row(user_id=68, transaction_amount=916.21), Row(user_id=33, transaction_amount=271.91), Row(user_id=87, transaction_amount=617.91), Row(user_id=56, transaction_amount=688.0), Row(user_id=13, transaction_amount=5.56), Row(user_id=23, transaction_amount=990.36), Row(user_id=36, transaction_amount=187.71), Row(user_id=100, transaction_amount=130.83), Row(user_id=39, transaction_amount=279.19), Row(user_id=93, transaction_amount=917.9), Row(user_id=31, transaction_amount=277.01), Row(user_id=50, transaction_amount=875.66), Row(user_id=57, transaction_amount=150.69), Row(user_id=11, transaction_amount=262.61), Row(user_id=71, transaction_amount=71.02), Row(user_id=59, transaction_amount=37.64), Row(user_id=84, transaction_amount=89.81), Row(user_id=67, transaction_amount=128.17), Row(user_id=20, transaction_amount=704.28), Row(user_id=11, transaction_amount=956.3), Row(user_id=67, transaction_amount=625.91), Row(user_id=50, transaction_amount=143.95), Row(user_id=38, transaction_amount=156.02), Row(user_id=99, transaction_amount=241.87), Row(user_id=15, transaction_amount=689.35), Row(user_id=5, transaction_amount=405.25), Row(user_id=10, transaction_amount=413.8), Row(user_id=85, transaction_amount=617.37), Row(user_id=42, transaction_amount=942.08), Row(user_id=12, transaction_amount=640.35), Row(user_id=15, transaction_amount=353.11), Row(user_id=19, transaction_amount=685.21), Row(user_id=94, transaction_amount=385.07), Row(user_id=95, transaction_amount=173.6), Row(user_id=28, transaction_amount=20.12), Row(user_id=41, transaction_amount=210.92), Row(user_id=58, transaction_amount=842.61), Row(user_id=75, transaction_amount=424.18), Row(user_id=10, transaction_amount=781.63), Row(user_id=38, transaction_amount=54.73), Row(user_id=10, transaction_amount=896.48), Row(user_id=65, transaction_amount=898.97), Row(user_id=72, transaction_amount=309.69), Row(user_id=76, transaction_amount=418.93), Row(user_id=43, transaction_amount=535.12), Row(user_id=68, transaction_amount=661.11), Row(user_id=32, transaction_amount=865.59), Row(user_id=78, transaction_amount=815.2), Row(user_id=89, transaction_amount=264.23), Row(user_id=14, transaction_amount=851.54), Row(user_id=18, transaction_amount=763.9), Row(user_id=73, transaction_amount=819.55), Row(user_id=83, transaction_amount=435.25), Row(user_id=9, transaction_amount=964.2), Row(user_id=36, transaction_amount=435.69), Row(user_id=85, transaction_amount=67.1), Row(user_id=17, transaction_amount=358.14), Row(user_id=88, transaction_amount=818.2), Row(user_id=71, transaction_amount=463.56), Row(user_id=75, transaction_amount=109.1), Row(user_id=87, transaction_amount=927.06), Row(user_id=3, transaction_amount=519.19), Row(user_id=8, transaction_amount=28.64), Row(user_id=18, transaction_amount=108.15), Row(user_id=10, transaction_amount=902.19), Row(user_id=86, transaction_amount=586.82), Row(user_id=36, transaction_amount=718.22), Row(user_id=71, transaction_amount=324.81), Row(user_id=78, transaction_amount=885.62), Row(user_id=16, transaction_amount=929.29), Row(user_id=9, transaction_amount=194.07), Row(user_id=67, transaction_amount=211.81), Row(user_id=49, transaction_amount=614.67), Row(user_id=68, transaction_amount=204.55), Row(user_id=83, transaction_amount=873.1), Row(user_id=72, transaction_amount=647.29), Row(user_id=67, transaction_amount=64.3), Row(user_id=28, transaction_amount=927.06), Row(user_id=50, transaction_amount=160.26), Row(user_id=90, transaction_amount=577.92), Row(user_id=33, transaction_amount=233.4), Row(user_id=52, transaction_amount=511.2), Row(user_id=28, transaction_amount=159.44), Row(user_id=73, transaction_amount=787.59), Row(user_id=59, transaction_amount=389.78), Row(user_id=70, transaction_amount=580.19), Row(user_id=49, transaction_amount=536.01), Row(user_id=81, transaction_amount=149.17), Row(user_id=32, transaction_amount=985.87), Row(user_id=52, transaction_amount=501.59), Row(user_id=94, transaction_amount=20.81), Row(user_id=53, transaction_amount=441.15), Row(user_id=91, transaction_amount=752.05), Row(user_id=33, transaction_amount=341.29), Row(user_id=77, transaction_amount=426.34), Row(user_id=3, transaction_amount=513.76), Row(user_id=33, transaction_amount=275.31), Row(user_id=63, transaction_amount=556.93), Row(user_id=45, transaction_amount=562.39), Row(user_id=98, transaction_amount=533.91), Row(user_id=25, transaction_amount=821.41), Row(user_id=88, transaction_amount=216.5), Row(user_id=66, transaction_amount=767.9), Row(user_id=35, transaction_amount=255.92), Row(user_id=73, transaction_amount=798.47), Row(user_id=100, transaction_amount=238.82), Row(user_id=64, transaction_amount=92.87), Row(user_id=93, transaction_amount=452.64), Row(user_id=19, transaction_amount=271.1)]\n"
     ]
    }
   ],
   "source": [
    "# Actions\n",
    "print(\"Collected Data:\")\n",
    "collected_data = df.collect()\n",
    "print(collected_data)"
   ]
  },
  {
   "cell_type": "code",
   "execution_count": 14,
   "id": "1f7c3025-fb3d-4cac-8d83-f5ee9eb6e0fc",
   "metadata": {},
   "outputs": [
    {
     "name": "stdout",
     "output_type": "stream",
     "text": [
      "Row Count: 1000\n"
     ]
    }
   ],
   "source": [
    "print(f\"Row Count: {df.count()}\")"
   ]
  },
  {
   "cell_type": "code",
   "execution_count": 15,
   "id": "57013f12-6ea3-4fc7-8efd-945aa44e65a8",
   "metadata": {},
   "outputs": [
    {
     "name": "stdout",
     "output_type": "stream",
     "text": [
      "First Two Rows:\n",
      "[Row(user_id=5, transaction_amount=545.92), Row(user_id=98, transaction_amount=386.07)]\n"
     ]
    }
   ],
   "source": [
    "print(\"First Two Rows:\")\n",
    "first_two_rows = df.take(2)\n",
    "print(first_two_rows)"
   ]
  },
  {
   "cell_type": "code",
   "execution_count": 16,
   "id": "be3ad36b-c3c7-42e8-82bf-3d29dbf53ab1",
   "metadata": {},
   "outputs": [
    {
     "name": "stdout",
     "output_type": "stream",
     "text": [
      "Describe the DataFrame:\n",
      "+-------+----------------+------------------+\n",
      "|summary|         user_id|transaction_amount|\n",
      "+-------+----------------+------------------+\n",
      "|  count|            1000|              1000|\n",
      "|   mean|            49.8| 502.6222700000001|\n",
      "| stddev|28.4594789471266|283.06873920421117|\n",
      "|    min|               1|              1.22|\n",
      "|    max|             100|            999.26|\n",
      "+-------+----------------+------------------+\n",
      "\n"
     ]
    }
   ],
   "source": [
    "print(\"Describe the DataFrame:\")\n",
    "df.describe().show()"
   ]
  },
  {
   "cell_type": "code",
   "execution_count": 17,
   "id": "e45d9f1b-3612-4f00-a7c3-6742074bd2bd",
   "metadata": {},
   "outputs": [
    {
     "name": "stdout",
     "output_type": "stream",
     "text": [
      "First Row:\n",
      "Row(user_id=5, transaction_amount=545.92)\n"
     ]
    }
   ],
   "source": [
    "print(\"First Row:\")\n",
    "first_row = df.first()\n",
    "print(first_row)"
   ]
  },
  {
   "cell_type": "code",
   "execution_count": 18,
   "id": "13b2e917-a8dc-40ae-a0b9-b756bb8a30f7",
   "metadata": {},
   "outputs": [
    {
     "name": "stdout",
     "output_type": "stream",
     "text": [
      "Schema:\n",
      "root\n",
      " |-- user_id: integer (nullable = true)\n",
      " |-- transaction_amount: double (nullable = true)\n",
      "\n"
     ]
    }
   ],
   "source": [
    "print(\"Schema:\")\n",
    "df.printSchema()"
   ]
  },
  {
   "cell_type": "code",
   "execution_count": 19,
   "id": "4e5b7220-39f1-4535-995a-9c8e00e48108",
   "metadata": {},
   "outputs": [],
   "source": [
    "spark.stop()"
   ]
  }
 ],
 "metadata": {
  "kernelspec": {
   "display_name": "Python 3 (ipykernel)",
   "language": "python",
   "name": "python3"
  },
  "language_info": {
   "codemirror_mode": {
    "name": "ipython",
    "version": 3
   },
   "file_extension": ".py",
   "mimetype": "text/x-python",
   "name": "python",
   "nbconvert_exporter": "python",
   "pygments_lexer": "ipython3",
   "version": "3.12.3"
  }
 },
 "nbformat": 4,
 "nbformat_minor": 5
}

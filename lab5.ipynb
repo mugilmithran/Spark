{
 "cells": [
  {
   "cell_type": "code",
   "execution_count": 1,
   "id": "0b32b166-9fb1-42ef-96ce-6aa7e766df01",
   "metadata": {},
   "outputs": [],
   "source": [
    "from pyspark.sql import SparkSession"
   ]
  },
  {
   "cell_type": "code",
   "execution_count": 2,
   "id": "42cd559b-a3c1-45b9-8bd4-8c375d12e9b6",
   "metadata": {},
   "outputs": [],
   "source": [
    "# Creating spark session\n",
    "spark = SparkSession.builder.getOrCreate()"
   ]
  },
  {
   "cell_type": "code",
   "execution_count": 3,
   "id": "b3bdda67-4774-4b06-9052-7fa9953575b7",
   "metadata": {},
   "outputs": [
    {
     "name": "stdout",
     "output_type": "stream",
     "text": [
      "root\n",
      " |-- DEST_COUNTRY_NAME: string (nullable = true)\n",
      " |-- ORIGIN_COUNTRY_NAME: string (nullable = true)\n",
      " |-- count: integer (nullable = true)\n",
      "\n"
     ]
    }
   ],
   "source": [
    "# Loading 'csv' file data into spark dataframe.\n",
    "df1 = spark.read.format(\"csv\")\\\n",
    ".option(\"header\", \"true\")\\\n",
    ".option(\"inferSchema\", \"true\")\\\n",
    ".load(\"2010-summary.csv\")\n",
    "df1.printSchema()\n",
    "df1.createOrReplaceTempView(\"y1\")"
   ]
  },
  {
   "cell_type": "code",
   "execution_count": 4,
   "id": "79f1bd9c-5975-4d48-aca7-e2a2594bf2e0",
   "metadata": {},
   "outputs": [
    {
     "name": "stdout",
     "output_type": "stream",
     "text": [
      "root\n",
      " |-- DEST_COUNTRY_NAME: string (nullable = true)\n",
      " |-- ORIGIN_COUNTRY_NAME: string (nullable = true)\n",
      " |-- count: integer (nullable = true)\n",
      "\n"
     ]
    }
   ],
   "source": [
    "df2 = spark.read.format(\"csv\")\\\n",
    ".option(\"header\", \"true\")\\\n",
    ".option(\"inferSchema\", \"true\")\\\n",
    ".load(\"2011-summary.csv\")\n",
    "df2.printSchema()\n",
    "df2.createOrReplaceTempView(\"y2\")"
   ]
  },
  {
   "cell_type": "code",
   "execution_count": 5,
   "id": "d5d1951d-fcf6-4feb-859e-5b2dc239e600",
   "metadata": {},
   "outputs": [
    {
     "name": "stdout",
     "output_type": "stream",
     "text": [
      "root\n",
      " |-- DEST_COUNTRY_NAME: string (nullable = true)\n",
      " |-- ORIGIN_COUNTRY_NAME: string (nullable = true)\n",
      " |-- count: integer (nullable = true)\n",
      "\n"
     ]
    }
   ],
   "source": [
    "df3 = spark.read.format(\"csv\")\\\n",
    ".option(\"header\", \"true\")\\\n",
    ".option(\"inferSchema\", \"true\")\\\n",
    ".load(\"2012-summary.csv\")\n",
    "df3.printSchema()\n",
    "df3.createOrReplaceTempView(\"y3\")"
   ]
  },
  {
   "cell_type": "code",
   "execution_count": 6,
   "id": "edeb7b28-65de-4120-a966-54cfe06e062e",
   "metadata": {},
   "outputs": [
    {
     "name": "stdout",
     "output_type": "stream",
     "text": [
      "root\n",
      " |-- DEST_COUNTRY_NAME: string (nullable = true)\n",
      " |-- ORIGIN_COUNTRY_NAME: string (nullable = true)\n",
      " |-- count: integer (nullable = true)\n",
      "\n"
     ]
    }
   ],
   "source": [
    "df4 = spark.read.format(\"csv\")\\\n",
    ".option(\"header\", \"true\")\\\n",
    ".option(\"inferSchema\", \"true\")\\\n",
    ".load(\"2013-summary.csv\")\n",
    "df4.printSchema()\n",
    "df4.createOrReplaceTempView(\"y4\")"
   ]
  },
  {
   "cell_type": "code",
   "execution_count": 7,
   "id": "71e2e376-4b24-474b-a60d-85ab8e2a86aa",
   "metadata": {},
   "outputs": [
    {
     "name": "stdout",
     "output_type": "stream",
     "text": [
      "root\n",
      " |-- DEST_COUNTRY_NAME: string (nullable = true)\n",
      " |-- ORIGIN_COUNTRY_NAME: string (nullable = true)\n",
      " |-- count: integer (nullable = true)\n",
      "\n"
     ]
    }
   ],
   "source": [
    "df5 = spark.read.format(\"csv\")\\\n",
    ".option(\"header\", \"true\")\\\n",
    ".option(\"inferSchema\", \"true\")\\\n",
    ".load(\"2014-summary.csv\")\n",
    "df5.printSchema()\n",
    "df5.createOrReplaceTempView(\"y5\")"
   ]
  },
  {
   "cell_type": "code",
   "execution_count": 8,
   "id": "4aa5aecc-cc11-4e6e-b5e3-5f51213aaed5",
   "metadata": {},
   "outputs": [
    {
     "name": "stdout",
     "output_type": "stream",
     "text": [
      "root\n",
      " |-- DEST_COUNTRY_NAME: string (nullable = true)\n",
      " |-- ORIGIN_COUNTRY_NAME: string (nullable = true)\n",
      " |-- count: integer (nullable = true)\n",
      "\n"
     ]
    }
   ],
   "source": [
    "df6 = spark.read.format(\"csv\")\\\n",
    ".option(\"header\", \"true\")\\\n",
    ".option(\"inferSchema\", \"true\")\\\n",
    ".load(\"2015-summary.csv\")\n",
    "df6.printSchema()\n",
    "df6.createOrReplaceTempView(\"y6\")"
   ]
  },
  {
   "cell_type": "code",
   "execution_count": 66,
   "id": "af8ac1fb-b609-429a-9843-675b3daffa22",
   "metadata": {},
   "outputs": [],
   "source": [
    "from functools import reduce\n",
    "from pyspark.sql import DataFrame\n",
    "from pyspark.sql.functions import lit, desc, col"
   ]
  },
  {
   "cell_type": "code",
   "execution_count": 10,
   "id": "0ca054fa-fe0d-46a6-a6b8-d5927f2603b4",
   "metadata": {},
   "outputs": [],
   "source": [
    "#Concatenating multiple dataframes into a single dataframe.\n",
    "\n",
    "df_list = [df1, df2, df3, df4, df5, df6]\n",
    "\n",
    "df_all = reduce(DataFrame.unionAll, df_list)\n",
    "\n",
    "#Adding year column to the table.\n",
    "df_all = df_all.withColumn(\"year\", lit(2010)).union(df2.withColumn(\"year\", lit(2011))).union(df3.withColumn(\"year\", lit(2012))).union(df4.withColumn(\"year\", lit(2013))).union(df5.withColumn(\"year\", lit(2014))).union(df6.withColumn(\"year\", lit(2015)))\n",
    "\n",
    "#Creating a table using the concatenated dataframe.\n",
    "df_all.createOrReplaceTempView(\"all_tables\")"
   ]
  },
  {
   "cell_type": "code",
   "execution_count": 11,
   "id": "cf22e8f1-b627-4e02-9ceb-c394328e8ab8",
   "metadata": {},
   "outputs": [
    {
     "name": "stdout",
     "output_type": "stream",
     "text": [
      "+--------------------+-------------------+-----+----+\n",
      "|   DEST_COUNTRY_NAME|ORIGIN_COUNTRY_NAME|count|year|\n",
      "+--------------------+-------------------+-----+----+\n",
      "|       United States|            Romania|    1|2010|\n",
      "|       United States|            Ireland|  264|2010|\n",
      "|       United States|              India|   69|2010|\n",
      "|               Egypt|      United States|   24|2010|\n",
      "|   Equatorial Guinea|      United States|    1|2010|\n",
      "|       United States|          Singapore|   25|2010|\n",
      "|       United States|            Grenada|   54|2010|\n",
      "|          Costa Rica|      United States|  477|2010|\n",
      "|             Senegal|      United States|   29|2010|\n",
      "|       United States|   Marshall Islands|   44|2010|\n",
      "|              Guyana|      United States|   17|2010|\n",
      "|       United States|       Sint Maarten|   53|2010|\n",
      "|               Malta|      United States|    1|2010|\n",
      "|             Bolivia|      United States|   46|2010|\n",
      "|            Anguilla|      United States|   21|2010|\n",
      "|Turks and Caicos ...|      United States|  136|2010|\n",
      "|       United States|        Afghanistan|    2|2010|\n",
      "|Saint Vincent and...|      United States|    1|2010|\n",
      "|               Italy|      United States|  390|2010|\n",
      "|       United States|             Russia|  156|2010|\n",
      "+--------------------+-------------------+-----+----+\n",
      "only showing top 20 rows\n",
      "\n"
     ]
    }
   ],
   "source": [
    "spark.sql(\"SELECT * FROM all_tables\").show()"
   ]
  },
  {
   "cell_type": "code",
   "execution_count": 31,
   "id": "487003e7-3edd-4ead-9d22-d279628504e2",
   "metadata": {},
   "outputs": [
    {
     "name": "stdout",
     "output_type": "stream",
     "text": [
      "+-----------------+-------------+\n",
      "|DEST_COUNTRY_NAME|total_flights|\n",
      "+-----------------+-------------+\n",
      "|    United States|      4311628|\n",
      "|           Canada|        89833|\n",
      "|           Mexico|        69950|\n",
      "|   United Kingdom|        20263|\n",
      "|            Japan|        17027|\n",
      "+-----------------+-------------+\n",
      "only showing top 5 rows\n",
      "\n"
     ]
    }
   ],
   "source": [
    "# What is the top 5 destinations?\n",
    "# Dataframe API\n",
    "top_dest = df_all.groupBy(\"DEST_COUNTRY_NAME\").agg({\"count\": \"sum\"}).withColumnRenamed(\"sum(count)\", \"total_flights\")\n",
    "\n",
    "top_dest = top_dest.orderBy(desc(\"total_flights\"))\n",
    "\n",
    "top_dest.show(5)"
   ]
  },
  {
   "cell_type": "code",
   "execution_count": 40,
   "id": "4ce98f56-216c-4ca3-9d32-40f587bd6ff4",
   "metadata": {},
   "outputs": [
    {
     "name": "stdout",
     "output_type": "stream",
     "text": [
      "+-----------------+-------------+\n",
      "|DEST_COUNTRY_NAME|total_flights|\n",
      "+-----------------+-------------+\n",
      "|    United States|      4311628|\n",
      "|           Canada|        89833|\n",
      "|           Mexico|        69950|\n",
      "|   United Kingdom|        20263|\n",
      "|            Japan|        17027|\n",
      "+-----------------+-------------+\n",
      "only showing top 5 rows\n",
      "\n"
     ]
    }
   ],
   "source": [
    "# SQL API\n",
    "spark.sql(\"SELECT DEST_COUNTRY_NAME, sum(count) AS total_flights FROM all_tables GROUP BY DEST_COUNTRY_NAME ORDER BY total_flights DESC\").show(5)"
   ]
  },
  {
   "cell_type": "code",
   "execution_count": 58,
   "id": "808c5ee7-2f53-426f-9e26-b806af53762e",
   "metadata": {},
   "outputs": [
    {
     "name": "stdout",
     "output_type": "stream",
     "text": [
      "+-------------------+-----------------+-------------+\n",
      "|ORIGIN_COUNTRY_NAME|DEST_COUNTRY_NAME|total_flights|\n",
      "+-------------------+-----------------+-------------+\n",
      "|      United States|    United States|       728356|\n",
      "|             Canada|    United States|        16660|\n",
      "|      United States|           Canada|        16373|\n",
      "|             Mexico|    United States|        13677|\n",
      "|      United States|           Mexico|        13567|\n",
      "+-------------------+-----------------+-------------+\n",
      "only showing top 5 rows\n",
      "\n"
     ]
    }
   ],
   "source": [
    "# What is the top 5 busiest routes in 2014 and 2015 (combined)?\n",
    "# Dataframe API\n",
    "busiest_route = df_all.where((df_all[\"year\"] == 2014)|(df_all[\"year\"] == 2015)).groupBy(\"ORIGIN_COUNTRY_NAME\", \"DEST_COUNTRY_NAME\").agg({\"count\": \"sum\"}).withColumnRenamed(\"sum(count)\", \"total_flights\")\n",
    "\n",
    "busiest_route = busiest_route.orderBy(desc(\"total_flights\"))\n",
    "\n",
    "busiest_route.show(5)"
   ]
  },
  {
   "cell_type": "code",
   "execution_count": 46,
   "id": "a5b011dc-c27f-4499-acce-21983c4237d5",
   "metadata": {},
   "outputs": [
    {
     "name": "stdout",
     "output_type": "stream",
     "text": [
      "+-------------------+-----------------+-------------+\n",
      "|ORIGIN_COUNTRY_NAME|DEST_COUNTRY_NAME|TOTAL_FLIGHTS|\n",
      "+-------------------+-----------------+-------------+\n",
      "|      United States|    United States|       728356|\n",
      "|             Canada|    United States|        16660|\n",
      "|      United States|           Canada|        16373|\n",
      "|             Mexico|    United States|        13677|\n",
      "|      United States|           Mexico|        13567|\n",
      "+-------------------+-----------------+-------------+\n",
      "only showing top 5 rows\n",
      "\n"
     ]
    }
   ],
   "source": [
    "# SQL API\n",
    "spark.sql(\"SELECT ORIGIN_COUNTRY_NAME, DEST_COUNTRY_NAME, sum(count) AS TOTAL_FLIGHTS FROM all_tables WHERE year = 2014 OR year = 2015 GROUP BY ORIGIN_COUNTRY_NAME, DEST_COUNTRY_NAME ORDER BY TOTAL_FLIGHTS DESC\").show(5)"
   ]
  },
  {
   "cell_type": "code",
   "execution_count": 82,
   "id": "ed75fccb-04c9-4fe0-8f95-8b9b70eb7716",
   "metadata": {},
   "outputs": [],
   "source": [
    "# Which route having the count increase the most between 2014 and 2015?\n",
    "# Dataframe API\n",
    "busiest_route_2014 = df_all.where(df_all[\"year\"] == 2014).groupBy(\"ORIGIN_COUNTRY_NAME\", \"DEST_COUNTRY_NAME\").agg({\"count\": \"sum\"}).withColumnRenamed(\"sum(count)\", \"total_flights\")\n",
    "\n",
    "busiest_route_2014 = busiest_route_2014.orderBy(desc(\"total_flights\"))\n",
    "\n",
    "busiest_route_2014.createOrReplaceTempView(\"route_2014\")"
   ]
  },
  {
   "cell_type": "code",
   "execution_count": 81,
   "id": "dc4a2c5d-29d6-4312-972e-2994f43763f8",
   "metadata": {},
   "outputs": [],
   "source": [
    "busiest_route_2015 = df_all.where(df_all[\"year\"] == 2015).groupBy(\"ORIGIN_COUNTRY_NAME\", \"DEST_COUNTRY_NAME\").agg({\"count\": \"sum\"}).withColumnRenamed(\"sum(count)\", \"total_flights\")\n",
    "\n",
    "busiest_route_2015 = busiest_route_2015.orderBy(desc(\"total_flights\")).withColumnRenamed(\"total_flights\", \"total_flights2\")\n",
    "\n",
    "busiest_route_2015.createOrReplaceTempView(\"route_2015\")"
   ]
  },
  {
   "cell_type": "code",
   "execution_count": 83,
   "id": "5bb16734-8ee7-47ce-b136-45b31409e88f",
   "metadata": {},
   "outputs": [
    {
     "name": "stdout",
     "output_type": "stream",
     "text": [
      "+-------------------+-----------------+-------------+--------------+---------------+\n",
      "|ORIGIN_COUNTRY_NAME|DEST_COUNTRY_NAME|total_flights|total_flights2|increased_count|\n",
      "+-------------------+-----------------+-------------+--------------+---------------+\n",
      "|      United States|    United States|       358354|        370002|          11648|\n",
      "+-------------------+-----------------+-------------+--------------+---------------+\n",
      "only showing top 1 row\n",
      "\n"
     ]
    }
   ],
   "source": [
    "route_increase = busiest_route_2014.join(busiest_route_2015, [\"ORIGIN_COUNTRY_NAME\", \"DEST_COUNTRY_NAME\"], \"outer\") \\\n",
    ".na.fill(0) \\\n",
    ".withColumn(\"increased_count\", col(\"total_flights2\") - col(\"total_flights\")).orderBy(col(\"increased_count\").desc())\n",
    "\n",
    "route_increase.show(1)"
   ]
  },
  {
   "cell_type": "code",
   "execution_count": 89,
   "id": "f7a79a06-8ea1-4ce9-a159-7e15945ae3f6",
   "metadata": {},
   "outputs": [
    {
     "name": "stdout",
     "output_type": "stream",
     "text": [
      "+-------------------+-----------------+---------------+\n",
      "|ORIGIN_COUNTRY_NAME|DEST_COUNTRY_NAME|increased_count|\n",
      "+-------------------+-----------------+---------------+\n",
      "|      United States|    United States|          11648|\n",
      "+-------------------+-----------------+---------------+\n",
      "\n"
     ]
    }
   ],
   "source": [
    "# SQL API\n",
    "spark.sql(\"\"\"SELECT r1.ORIGIN_COUNTRY_NAME, r1.DEST_COUNTRY_NAME, (r2.total_flights2 - r1.total_flights) AS increased_count \n",
    "           FROM route_2014 r1\n",
    "           JOIN route_2015 r2 \n",
    "           ON r1.ORIGIN_COUNTRY_NAME = r2.ORIGIN_COUNTRY_NAME \n",
    "           AND r1.DEST_COUNTRY_NAME = r2.DEST_COUNTRY_NAME \n",
    "           ORDER BY increased_count DESC \n",
    "           LIMIT 1\"\"\").show()"
   ]
  },
  {
   "cell_type": "code",
   "execution_count": null,
   "id": "1936f798-1c38-4875-a3f3-3a782720fd32",
   "metadata": {},
   "outputs": [],
   "source": []
  },
  {
   "cell_type": "code",
   "execution_count": null,
   "id": "6396336d-9d56-47ce-b9d1-a584bce47174",
   "metadata": {},
   "outputs": [],
   "source": []
  },
  {
   "cell_type": "code",
   "execution_count": null,
   "id": "5a589c6d-931c-48f3-9070-c2ed85766c6c",
   "metadata": {},
   "outputs": [],
   "source": []
  },
  {
   "cell_type": "code",
   "execution_count": null,
   "id": "1ecca967-5051-428a-b96b-5fb93299a123",
   "metadata": {},
   "outputs": [],
   "source": []
  },
  {
   "cell_type": "code",
   "execution_count": null,
   "id": "dbbc7fee-b93b-4a4a-9448-08a64e7f6767",
   "metadata": {},
   "outputs": [],
   "source": []
  },
  {
   "cell_type": "code",
   "execution_count": null,
   "id": "ee3a3eb4-c398-4777-9bd0-a80641cda659",
   "metadata": {},
   "outputs": [],
   "source": []
  },
  {
   "cell_type": "code",
   "execution_count": null,
   "id": "59050229-f895-403e-af0f-9cfccecc18bd",
   "metadata": {},
   "outputs": [],
   "source": []
  },
  {
   "cell_type": "code",
   "execution_count": null,
   "id": "a6e703bc-c5a0-43e3-af17-79a42270ec17",
   "metadata": {},
   "outputs": [],
   "source": []
  },
  {
   "cell_type": "code",
   "execution_count": null,
   "id": "579e20d6-0c24-4139-bf05-06eda24855d1",
   "metadata": {},
   "outputs": [],
   "source": []
  },
  {
   "cell_type": "code",
   "execution_count": null,
   "id": "d253589d-d6f0-497c-8e09-43b6c7370342",
   "metadata": {},
   "outputs": [],
   "source": []
  },
  {
   "cell_type": "code",
   "execution_count": null,
   "id": "bc51a70e-b6eb-43e0-b38a-fbbd9c9f7ec4",
   "metadata": {},
   "outputs": [],
   "source": []
  },
  {
   "cell_type": "code",
   "execution_count": null,
   "id": "6174281e-ac40-47e6-9d11-a0ed7698fbd5",
   "metadata": {},
   "outputs": [],
   "source": []
  }
 ],
 "metadata": {
  "kernelspec": {
   "display_name": "Python 3 (ipykernel)",
   "language": "python",
   "name": "python3"
  },
  "language_info": {
   "codemirror_mode": {
    "name": "ipython",
    "version": 3
   },
   "file_extension": ".py",
   "mimetype": "text/x-python",
   "name": "python",
   "nbconvert_exporter": "python",
   "pygments_lexer": "ipython3",
   "version": "3.12.3"
  }
 },
 "nbformat": 4,
 "nbformat_minor": 5
}

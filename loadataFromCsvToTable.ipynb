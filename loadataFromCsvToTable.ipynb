{
 "cells": [
  {
   "cell_type": "code",
   "execution_count": 2,
   "id": "83a6f563-5688-4433-a1cd-001a7a5199de",
   "metadata": {},
   "outputs": [],
   "source": [
    "from pyspark.sql import SparkSession\n",
    "from pyspark.sql import functions as F\n",
    "from pyspark.sql.types import StructType, StructField, StringType, IntegerType, FloatType, DoubleType, TimestampType"
   ]
  },
  {
   "cell_type": "code",
   "execution_count": 3,
   "id": "b8181c1a-f9b6-428e-9f48-3ead0199b194",
   "metadata": {},
   "outputs": [],
   "source": [
    "spark = SparkSession.builder.appName(\"VerifySpark\").getOrCreate()"
   ]
  },
  {
   "cell_type": "code",
   "execution_count": 5,
   "id": "810c7e51-8b9d-4967-9d86-a930047476ec",
   "metadata": {},
   "outputs": [
    {
     "name": "stdout",
     "output_type": "stream",
     "text": [
      "+-------+------------------+\n",
      "|user_id|transaction_amount|\n",
      "+-------+------------------+\n",
      "|      5|            545.92|\n",
      "|     98|            386.07|\n",
      "|     30|            577.02|\n",
      "|     14|            479.49|\n",
      "|     34|            834.78|\n",
      "|     29|            531.64|\n",
      "|     72|            275.41|\n",
      "|     79|            272.48|\n",
      "|     38|            365.55|\n",
      "|     47|            902.76|\n",
      "|      8|            816.28|\n",
      "|     82|            610.81|\n",
      "|     29|             68.13|\n",
      "|     34|            568.34|\n",
      "|     26|            367.73|\n",
      "|     98|             118.9|\n",
      "|     54|            179.38|\n",
      "|     78|             31.64|\n",
      "|     43|            743.28|\n",
      "|     61|             667.6|\n",
      "+-------+------------------+\n",
      "only showing top 20 rows\n",
      "\n"
     ]
    }
   ],
   "source": [
    "df = spark.read.csv(\"data.csv\", header=True, inferSchema=True)\n",
    "df.show()"
   ]
  },
  {
   "cell_type": "code",
   "execution_count": 6,
   "id": "b30d6084-11a5-49dd-ab1b-918369e5a146",
   "metadata": {},
   "outputs": [],
   "source": [
    "df.createOrReplaceTempView(\"data_table\")"
   ]
  },
  {
   "cell_type": "code",
   "execution_count": 8,
   "id": "8632e85b-1b4a-4d10-a913-aec4b52c5172",
   "metadata": {},
   "outputs": [
    {
     "name": "stdout",
     "output_type": "stream",
     "text": [
      "+-------+--------+\n",
      "|user_id|count(1)|\n",
      "+-------+--------+\n",
      "|     31|       7|\n",
      "|     85|       9|\n",
      "|     65|      11|\n",
      "|     53|      11|\n",
      "|     78|       9|\n",
      "|     34|      17|\n",
      "|     81|       7|\n",
      "|     28|      21|\n",
      "|     76|       8|\n",
      "|     26|      10|\n",
      "|     27|       8|\n",
      "|     44|       9|\n",
      "|     12|       8|\n",
      "|     91|       7|\n",
      "|     22|      13|\n",
      "|     93|      14|\n",
      "|     47|       4|\n",
      "|      1|       9|\n",
      "|     52|       9|\n",
      "|     13|       9|\n",
      "+-------+--------+\n",
      "only showing top 20 rows\n",
      "\n"
     ]
    }
   ],
   "source": [
    "sql_df = spark.sql(\"SELECT user_id, COUNT(*) FROM data_table GROUP BY user_id\")\n",
    "sql_df.show()"
   ]
  },
  {
   "cell_type": "code",
   "execution_count": 10,
   "id": "47bd8afb-73e8-472e-ae5b-94619cb57cae",
   "metadata": {},
   "outputs": [],
   "source": [
    "spark.stop()"
   ]
  }
 ],
 "metadata": {
  "kernelspec": {
   "display_name": "Python 3 (ipykernel)",
   "language": "python",
   "name": "python3"
  },
  "language_info": {
   "codemirror_mode": {
    "name": "ipython",
    "version": 3
   },
   "file_extension": ".py",
   "mimetype": "text/x-python",
   "name": "python",
   "nbconvert_exporter": "python",
   "pygments_lexer": "ipython3",
   "version": "3.12.3"
  }
 },
 "nbformat": 4,
 "nbformat_minor": 5
}
